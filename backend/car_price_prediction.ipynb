{
 "cells": [
  {
   "cell_type": "markdown",
   "id": "8784374e",
   "metadata": {},
   "source": [
    "# Car Price Prediction - Model Training & Evaluation\n",
    "\n",
    "This notebook trains multiple regression models (Linear Regression, Random Forest, XGBoost) on the Car_details_v3 dataset, compares performance, and saves the best model.\n"
   ]
  },
  {
   "cell_type": "markdown",
   "id": "ebebea21",
   "metadata": {},
   "source": [
    "## 1. Imports & Setup\n"
   ]
  },
  {
   "cell_type": "code",
   "execution_count": 1,
   "id": "7960e9ef",
   "metadata": {},
   "outputs": [
    {
     "ename": "ModuleNotFoundError",
     "evalue": "No module named 'xgboost'",
     "output_type": "error",
     "traceback": [
      "\u001b[1;31m---------------------------------------------------------------------------\u001b[0m",
      "\u001b[1;31mModuleNotFoundError\u001b[0m                       Traceback (most recent call last)",
      "Cell \u001b[1;32mIn[1], line 14\u001b[0m\n\u001b[0;32m     12\u001b[0m \u001b[38;5;28;01mfrom\u001b[39;00m\u001b[38;5;250m \u001b[39m\u001b[38;5;21;01msklearn\u001b[39;00m\u001b[38;5;21;01m.\u001b[39;00m\u001b[38;5;21;01mlinear_model\u001b[39;00m\u001b[38;5;250m \u001b[39m\u001b[38;5;28;01mimport\u001b[39;00m LinearRegression\n\u001b[0;32m     13\u001b[0m \u001b[38;5;28;01mfrom\u001b[39;00m\u001b[38;5;250m \u001b[39m\u001b[38;5;21;01msklearn\u001b[39;00m\u001b[38;5;21;01m.\u001b[39;00m\u001b[38;5;21;01mensemble\u001b[39;00m\u001b[38;5;250m \u001b[39m\u001b[38;5;28;01mimport\u001b[39;00m RandomForestRegressor\n\u001b[1;32m---> 14\u001b[0m \u001b[38;5;28;01mfrom\u001b[39;00m\u001b[38;5;250m \u001b[39m\u001b[38;5;21;01mxgboost\u001b[39;00m\u001b[38;5;250m \u001b[39m\u001b[38;5;28;01mimport\u001b[39;00m XGBRegressor\n\u001b[0;32m     15\u001b[0m \u001b[38;5;28;01mfrom\u001b[39;00m\u001b[38;5;250m \u001b[39m\u001b[38;5;21;01msklearn\u001b[39;00m\u001b[38;5;21;01m.\u001b[39;00m\u001b[38;5;21;01mmetrics\u001b[39;00m\u001b[38;5;250m \u001b[39m\u001b[38;5;28;01mimport\u001b[39;00m r2_score, mean_absolute_error, mean_squared_error\n\u001b[0;32m     16\u001b[0m \u001b[38;5;28;01mimport\u001b[39;00m\u001b[38;5;250m \u001b[39m\u001b[38;5;21;01mjoblib\u001b[39;00m\n",
      "\u001b[1;31mModuleNotFoundError\u001b[0m: No module named 'xgboost'"
     ]
    }
   ],
   "source": [
    "\n",
    "import warnings\n",
    "warnings.filterwarnings('ignore')\n",
    "\n",
    "import os\n",
    "import re\n",
    "import datetime\n",
    "import numpy as np\n",
    "import pandas as pd\n",
    "import matplotlib.pyplot as plt\n",
    "\n",
    "from sklearn.model_selection import train_test_split\n",
    "from sklearn.linear_model import LinearRegression\n",
    "from sklearn.ensemble import RandomForestRegressor\n",
    "from xgboost import XGBRegressor\n",
    "from sklearn.metrics import r2_score, mean_absolute_error, mean_squared_error\n",
    "import joblib\n"
   ]
  },
  {
   "cell_type": "markdown",
   "id": "ecbd04bf",
   "metadata": {},
   "source": [
    "## 2. Helper Functions\n"
   ]
  },
  {
   "cell_type": "code",
   "execution_count": null,
   "id": "957b56df",
   "metadata": {},
   "outputs": [],
   "source": [
    "\n",
    "KGFM_TO_NM = 9.80665  # 1 kgf·m ≈ 9.80665 N·m\n",
    "\n",
    "def extract_float(text):\n",
    "    if pd.isna(text):\n",
    "        return np.nan\n",
    "    m = re.search(r'([\\d]+(?:\\.\\d+)?)', str(text))\n",
    "    return float(m.group(1)) if m else np.nan\n",
    "\n",
    "def parse_torque_to_nm(tq):\n",
    "    if pd.isna(tq):\n",
    "        return np.nan\n",
    "    s = str(tq).lower().replace(',', '')\n",
    "    m = re.search(r'([\\d]+(?:\\.\\d+)?)\\s*(nm|n\\-?m|kgm|kgf\\.?m|kgf\\-?m)?', s)\n",
    "    if not m:\n",
    "        return np.nan\n",
    "    value = float(m.group(1))\n",
    "    unit = m.group(2) or \"\"\n",
    "    if 'kg' in unit:\n",
    "        return value * KGFM_TO_NM\n",
    "    return value\n",
    "\n",
    "def safe_int(x):\n",
    "    try:\n",
    "        return int(float(x))\n",
    "    except Exception:\n",
    "        return np.nan\n"
   ]
  },
  {
   "cell_type": "markdown",
   "id": "c0fb5e0c",
   "metadata": {},
   "source": [
    "## 3. Load Data\n"
   ]
  },
  {
   "cell_type": "code",
   "execution_count": null,
   "id": "0ec80fe6",
   "metadata": {},
   "outputs": [],
   "source": [
    "\n",
    "data = pd.read_csv('./kaggle/input/Car_details_v3.csv')\n",
    "\n",
    "print(data.head())\n",
    "print(\"Number of Rows:\", data.shape[0])\n",
    "print(\"Number of Columns:\", data.shape[1])\n",
    "print(data.info())\n"
   ]
  },
  {
   "cell_type": "markdown",
   "id": "b2f2ff7e",
   "metadata": {},
   "source": [
    "## 4. Feature Engineering\n"
   ]
  },
  {
   "cell_type": "code",
   "execution_count": null,
   "id": "980f4326",
   "metadata": {},
   "outputs": [],
   "source": [
    "\n",
    "current_year = datetime.datetime.now().year\n",
    "data['age'] = current_year - data['year']\n",
    "data.drop('year', axis=1, inplace=True)\n",
    "data.drop('name', axis=1, inplace=True)\n",
    "\n",
    "data['mileage']   = data['mileage'].apply(extract_float)\n",
    "data['engine']    = data['engine'].apply(extract_float)\n",
    "data['max_power'] = data['max_power'].apply(extract_float)\n",
    "data['torque']    = data['torque'].apply(parse_torque_to_nm)\n",
    "data['seats'] = data['seats'].apply(safe_int)\n"
   ]
  },
  {
   "cell_type": "markdown",
   "id": "976ae60b",
   "metadata": {},
   "source": [
    "## 5. Encode Categorical Features\n"
   ]
  },
  {
   "cell_type": "code",
   "execution_count": null,
   "id": "65d225cf",
   "metadata": {},
   "outputs": [],
   "source": [
    "\n",
    "data['fuel'] = data['fuel'].map({'Petrol': 0, 'Diesel': 1, 'CNG': 2, 'LPG': 3, 'Electric': 4})\n",
    "data['seller_type'] = data['seller_type'].map({'Dealer': 0, 'Individual': 1, 'Trustmark Dealer': 2})\n",
    "data['transmission'] = data['transmission'].map({'Manual': 0, 'Automatic': 1})\n",
    "data['owner'] = data['owner'].map({\n",
    "    'First Owner': 0,\n",
    "    'Second Owner': 1,\n",
    "    'Third Owner': 2,\n",
    "    'Fourth & Above Owner': 3,\n",
    "    'Test Drive Car': 4\n",
    "})\n"
   ]
  },
  {
   "cell_type": "markdown",
   "id": "139fa01b",
   "metadata": {},
   "source": [
    "## 6. Drop Nulls\n"
   ]
  },
  {
   "cell_type": "code",
   "execution_count": null,
   "id": "d830687a",
   "metadata": {},
   "outputs": [],
   "source": [
    "data = data.dropna().reset_index(drop=True)"
   ]
  },
  {
   "cell_type": "markdown",
   "id": "c3b3715c",
   "metadata": {},
   "source": [
    "## 7. Define Features & Target\n"
   ]
  },
  {
   "cell_type": "code",
   "execution_count": null,
   "id": "d3742349",
   "metadata": {},
   "outputs": [],
   "source": [
    "\n",
    "TARGET = 'selling_price'\n",
    "X = data.drop(TARGET, axis=1)\n",
    "y = data[TARGET]\n",
    "\n",
    "feature_names = X.columns.tolist()\n"
   ]
  },
  {
   "cell_type": "markdown",
   "id": "8d82176a",
   "metadata": {},
   "source": [
    "## 8. Train/Test Split\n"
   ]
  },
  {
   "cell_type": "code",
   "execution_count": null,
   "id": "927d6167",
   "metadata": {},
   "outputs": [],
   "source": [
    "\n",
    "X_train, X_test, y_train, y_test = train_test_split(\n",
    "    X, y, test_size=0.2, random_state=42\n",
    ")\n"
   ]
  },
  {
   "cell_type": "markdown",
   "id": "e8a402fb",
   "metadata": {},
   "source": [
    "## 9. Train Multiple Models & Evaluate\n"
   ]
  },
  {
   "cell_type": "code",
   "execution_count": null,
   "id": "7a7856e8",
   "metadata": {},
   "outputs": [],
   "source": [
    "\n",
    "lr = LinearRegression()\n",
    "rf = RandomForestRegressor(random_state=42)\n",
    "xgb = XGBRegressor(\n",
    "    random_state=42,\n",
    "    n_estimators=300,\n",
    "    learning_rate=0.1,\n",
    "    max_depth=6,\n",
    "    subsample=0.9,\n",
    "    colsample_bytree=0.9\n",
    ")\n",
    "\n",
    "models = {\n",
    "    'Linear Regression': lr,\n",
    "    'Random Forest': rf,\n",
    "    'XGBoost': xgb\n",
    "}\n",
    "\n",
    "metrics_rows = []\n",
    "for name, model in models.items():\n",
    "    model.fit(X_train, y_train)\n",
    "    y_pred = model.predict(X_test)\n",
    "    r2   = r2_score(y_test, y_pred)\n",
    "    mae  = mean_absolute_error(y_test, y_pred)\n",
    "    rmse = np.sqrt(mean_squared_error(y_test, y_pred))\n",
    "    metrics_rows.append([name, r2, mae, rmse])\n",
    "\n",
    "results = pd.DataFrame(metrics_rows, columns=['Model', 'R2', 'MAE', 'RMSE'])\n",
    "results.sort_values('R2', ascending=False)\n"
   ]
  },
  {
   "cell_type": "markdown",
   "id": "2bfffc4f",
   "metadata": {},
   "source": [
    "## 10. Save Best Model\n"
   ]
  },
  {
   "cell_type": "code",
   "execution_count": null,
   "id": "2fb91464",
   "metadata": {},
   "outputs": [],
   "source": [
    "\n",
    "best_row = results.sort_values('R2', ascending=False).iloc[0]\n",
    "best_name = best_row['Model']\n",
    "best_model = models[best_name]\n",
    "\n",
    "os.makedirs('./models', exist_ok=True)\n",
    "joblib.dump(best_model, './models/Car_details_v3.pkl')\n",
    "\n",
    "print(f\"✅ Best model: {best_name} saved (R2 = {best_row['R2']:.4f})\")\n"
   ]
  },
  {
   "cell_type": "markdown",
   "id": "4d00cb3e",
   "metadata": {},
   "source": [
    "## 11. Linear Regression Coefficients\n"
   ]
  },
  {
   "cell_type": "code",
   "execution_count": null,
   "id": "4d858e32",
   "metadata": {},
   "outputs": [],
   "source": [
    "\n",
    "try:\n",
    "    lr_coefs = pd.DataFrame({\n",
    "        'feature': feature_names,\n",
    "        'coefficient': lr.coef_\n",
    "    }).sort_values('coefficient', key=np.abs, ascending=False)\n",
    "    lr_coefs.head(20)\n",
    "except Exception as e:\n",
    "    print(\"[WARN] Could not compute LR coefficients:\", e)\n"
   ]
  },
  {
   "cell_type": "markdown",
   "id": "87a0b827",
   "metadata": {},
   "source": [
    "## 12. Sample Prediction\n"
   ]
  },
  {
   "cell_type": "code",
   "execution_count": null,
   "id": "17f57246",
   "metadata": {},
   "outputs": [],
   "source": [
    "\n",
    "sample = pd.DataFrame({\n",
    "    'km_driven': [70000],\n",
    "    'fuel': [0],\n",
    "    'seller_type': [1],\n",
    "    'transmission': [0],\n",
    "    'owner': [0],\n",
    "    'mileage': [20.0],\n",
    "    'engine': [1197],\n",
    "    'max_power': [82],\n",
    "    'torque': [113],\n",
    "    'seats': [5],\n",
    "    'age': [current_year - 2015]\n",
    "})\n",
    "\n",
    "loaded = joblib.load('./models/Car_details_v3.pkl')\n",
    "pred = loaded.predict(sample)\n",
    "print(f\"📈 Predicted Price: ৳{pred[0]:,.2f}\")\n"
   ]
  },
  {
   "cell_type": "markdown",
   "id": "a84f9d45",
   "metadata": {},
   "source": [
    "## 13. Visualizations\n"
   ]
  },
  {
   "cell_type": "code",
   "execution_count": null,
   "id": "9a79f1bd",
   "metadata": {},
   "outputs": [],
   "source": [
    "\n",
    "y_pred_best = best_model.predict(X_test)\n",
    "mae_best  = mean_absolute_error(y_test, y_pred_best)\n",
    "rmse_best = np.sqrt(mean_squared_error(y_test, y_pred_best))\n",
    "\n",
    "plt.figure(figsize=(8, 6))\n",
    "plt.scatter(y_test, y_pred_best, edgecolors='k', alpha=0.6)\n",
    "plt.plot([y_test.min(), y_test.max()], [y_test.min(), y_test.max()], linewidth=2, linestyle='--')\n",
    "plt.title(f'Actual vs Predicted ({best_name})\\nMAE = ৳{mae_best:,.2f} | RMSE = ৳{rmse_best:,.2f}')\n",
    "plt.xlabel('Actual Selling Price')\n",
    "plt.ylabel('Predicted Selling Price')\n",
    "plt.grid(True)\n",
    "plt.show()\n"
   ]
  },
  {
   "cell_type": "code",
   "execution_count": null,
   "id": "96f808bd",
   "metadata": {},
   "outputs": [],
   "source": [
    "\n",
    "subset = data.sample(n=min(2000, len(data)), random_state=42)\n",
    "x_uni = subset[['km_driven']]\n",
    "y_uni = subset['selling_price']\n",
    "lr_uni = LinearRegression().fit(x_uni, y_uni)\n",
    "y_uni_pred = lr_uni.predict(x_uni)\n",
    "\n",
    "order = np.argsort(x_uni.values.ravel())\n",
    "plt.figure(figsize=(8, 6))\n",
    "plt.scatter(x_uni, y_uni, s=10, alpha=0.5)\n",
    "plt.plot(x_uni.values.ravel()[order], y_uni_pred[order], linewidth=2)\n",
    "plt.title('Univariate Regression: km_driven vs selling_price')\n",
    "plt.xlabel('km_driven')\n",
    "plt.ylabel('selling_price')\n",
    "plt.grid(True)\n",
    "plt.show()\n"
   ]
  },
  {
   "cell_type": "code",
   "execution_count": null,
   "id": "9a0806df",
   "metadata": {},
   "outputs": [],
   "source": [
    "\n",
    "if hasattr(best_model, 'feature_importances_'):\n",
    "    importances = pd.Series(best_model.feature_importances_, index=feature_names).sort_values(ascending=False)[:20]\n",
    "    importances.iloc[::-1].plot(kind='barh', figsize=(8, 6))\n",
    "    plt.title(f'Feature Importance — {best_name}')\n",
    "    plt.xlabel('Importance')\n",
    "    plt.show()\n"
   ]
  }
 ],
 "metadata": {
  "kernelspec": {
   "display_name": "Python (base)",
   "language": "python",
   "name": "base"
  },
  "language_info": {
   "codemirror_mode": {
    "name": "ipython",
    "version": 3
   },
   "file_extension": ".py",
   "mimetype": "text/x-python",
   "name": "python",
   "nbconvert_exporter": "python",
   "pygments_lexer": "ipython3",
   "version": "3.13.5"
  }
 },
 "nbformat": 4,
 "nbformat_minor": 5
}
